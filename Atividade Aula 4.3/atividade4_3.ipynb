{
 "cells": [
  {
   "cell_type": "markdown",
   "metadata": {},
   "source": [
    "# Atividade 4.3\n",
    "\n",
    "## Conclusões\n",
    "\n",
    "1. ![primeiro teste](1.png)"
   ]
  }
 ],
 "metadata": {
  "language_info": {
   "name": "python"
  }
 },
 "nbformat": 4,
 "nbformat_minor": 2
}
