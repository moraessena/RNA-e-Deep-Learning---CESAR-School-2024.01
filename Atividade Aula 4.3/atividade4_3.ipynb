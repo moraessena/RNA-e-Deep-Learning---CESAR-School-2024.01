{
 "cells": [
  {
   "cell_type": "markdown",
   "metadata": {},
   "source": [
    "# Atividade 4.3\n",
    "\n",
    "## Conclusões\n",
    "\n",
    "1. No primeiro teste, ao utilizar apenas 2 neurônios, a rede não consegue resolver o problema.\n",
    "![primeiro teste](1.png)\n",
    "\n",
    "2. Mesmo aumentando o número de neurônios, e alterando o learning rate para **0.0001**, é observada uma piora no desempenho\n",
    "![segundo teste](2.png)\n",
    "\n",
    "3. Aumentando a complexidade da rede, adicionando uma nova camada com 4 neurônios, nota-se que há uma melhora, porém ainda distante de conseguir\n",
    "realizar a separação dos dados\n",
    "![terceiro teste](3.png)\n",
    "\n",
    "4. Alterar a função de ativação para ReLU, a perda é bastante reduzidade e a rede consegue realizar a classficação\n",
    "![quarto teste](4.png)\n",
    "\n",
    "5. Ainda que utilize a função de ativação ReLU, uma rede mais simples, com apenas duas camadas não é capaz de resolver o problema\n",
    "![quinto teste](5.png)"
   ]
  }
 ],
 "metadata": {
  "language_info": {
   "name": "python"
  }
 },
 "nbformat": 4,
 "nbformat_minor": 2
}
